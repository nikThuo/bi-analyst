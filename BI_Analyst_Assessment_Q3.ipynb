{
 "cells": [
  {
   "cell_type": "markdown",
   "id": "b7067287",
   "metadata": {},
   "source": [
    "\n",
    "# BI Analyst Assessment - Question 3\n",
    "\n",
    "This notebook addresses the full Question 3, including parts A, B, and C. It systematically solves:\n",
    "1. Generating reports on student performance by course and student information (Part A).\n",
    "2. Writing SQL queries for the required report (Part B).\n",
    "3. Loading data into Power BI and designing visualizations, along with optimization techniques for large datasets (Part C).\n",
    "\n",
    "The notebook provides detailed explanations, SQL scripts, and illustrations where appropriate.\n"
   ]
  },
  {
   "cell_type": "markdown",
   "id": "1d9cfd6f",
   "metadata": {},
   "source": [
    "\n",
    "## Part A: Report Generation\n",
    "\n",
    "### Task:\n",
    "1. **Student Performance by Course**: For each student, list their courses, the grade they received for each course in the latest module, and the average grade for each student across all their courses in the most recent module.\n",
    "2. **Student Information**: Include the student’s first name, last name, and grade level.\n",
    "\n",
    "### Solution:\n",
    "\n",
    "To achieve this, we process the following:\n",
    "1. Filter data to include only grades from the most recent module.\n",
    "2. Calculate the average grade for each student.\n",
    "3. Combine student details with performance metrics.\n",
    "\n",
    "### Data Tables Used:\n",
    "- **Students**: Basic student information (e.g., `student_id`, `first_name`, `last_name`, `grade_level`).\n",
    "- **Grades**: Performance metrics, filtered by the latest module.\n",
    "- **Courses**: Course information.\n",
    "\n",
    "The SQL query in the next section demonstrates this process.\n"
   ]
  },
  {
   "cell_type": "code",
   "outputs": [],
   "source": [
    "```sql\n",
    "-- Determine the most recent module\n",
    "WITH Latest_Module AS (\n",
    "    SELECT MAX(Module) AS LatestModule FROM Grades\n",
    "),\n",
    "-- Filter grades to include only the most recent module\n",
    "Filtered_Grades AS (\n",
    "    SELECT \n",
    "        g.student_id,\n",
    "        g.course_id,\n",
    "        g.grade,\n",
    "        g.Module\n",
    "    FROM Grades g\n",
    "    INNER JOIN Latest_Module lm ON g.Module = lm.LatestModule\n",
    "),\n",
    "-- Calculate average grade for each student in the latest module\n",
    "Student_Avg_Grade AS (\n",
    "    SELECT \n",
    "        student_id,\n",
    "        AVG(grade) AS avg_grade\n",
    "    FROM Filtered_Grades\n",
    "    GROUP BY student_id\n",
    ")\n",
    "-- Final report with student details, course performance, and averages\n",
    "SELECT \n",
    "    s.first_name,\n",
    "    s.last_name,\n",
    "    s.grade_level,\n",
    "    c.course_name,\n",
    "    fg.grade AS course_grade,\n",
    "    sag.avg_grade AS average_grade\n",
    "FROM Filtered_Grades fg\n",
    "INNER JOIN Students s ON fg.student_id = s.student_id\n",
    "INNER JOIN Courses c ON fg.course_id = c.course_id\n",
    "INNER JOIN Student_Avg_Grade sag ON fg.student_id = sag.student_id;\n",
    "```\n"
   ],
   "metadata": {
    "collapsed": false
   },
   "id": "38644575fa2ae3ea"
  },
  {
   "cell_type": "markdown",
   "source": [
    "\n",
    "## Part B: SQL Query Explanation\n",
    "\n",
    "### Query Breakdown:\n",
    "1. **Latest_Module**: Finds the most recent module from the `Grades` table.\n",
    "2. **Filtered_Grades**: Filters grades for only the most recent module.\n",
    "3. **Student_Avg_Grade**: Calculates the average grade per student in the latest module.\n",
    "4. **Final Query**: Combines:\n",
    "    - `Students` table for student details.\n",
    "    - `Courses` table for course names.\n",
    "    - `Filtered_Grades` for individual course grades.\n",
    "    - `Student_Avg_Grade` for the average grade.\n",
    "\n",
    "The final result is a comprehensive report showing student information, course-wise grades, and their overall performance in the most recent module.\n"
   ],
   "metadata": {
    "collapsed": false
   },
   "id": "59698d8f8a977bec"
  },
  {
   "cell_type": "markdown",
   "source": [
    "\n",
    "## Part C: Power BI\n",
    "\n",
    "### Loading Data into Power BI\n",
    "1. **Extract Data**:\n",
    "    - Export tables (`Students`, `Courses`, `Enrollments`, `Grades`) as CSV files or connect directly to the database.\n",
    "2. **Load Data**:\n",
    "    - Open Power BI Desktop and use the \"Get Data\" option to import the CSV files or connect to the database.\n",
    "3. **Transform Data**:\n",
    "    - Use Power Query Editor to clean, format, and merge the data.\n",
    "4. **Define Relationships**:\n",
    "    - Ensure relationships like `student_id` and `course_id` are properly established between tables.\n",
    "\n",
    "### Suggested Visualizations\n",
    "1. **Student Grades by Course**:\n",
    "    - A table visualization with:\n",
    "        - Columns: Student Name, Course Name, Grade\n",
    "\n",
    "2. **Average Grades by Grade Level**:\n",
    "    - A bar chart showing:\n",
    "        - X-axis: Grade Level\n",
    "        - Y-axis: Average Grade\n",
    "\n",
    "### Optimizing Power BI for Large Datasets\n",
    "1. **Data Reduction**:\n",
    "    - Remove unnecessary columns and rows before loading.\n",
    "2. **Data Aggregation**:\n",
    "    - Pre-aggregate data where possible.\n",
    "3. **Efficient Relationships**:\n",
    "    - Use a star schema for simplicity and performance.\n",
    "4. **Incremental Refresh**:\n",
    "    - Enable incremental data refresh for large datasets.\n",
    "\n",
    "### Data Flow Diagram\n",
    "Below is a simplified data flow diagram:\n",
    "```\n",
    "[Database] --> [ETL Process] --> [Power BI] --> [Visualizations]\n",
    "```\n",
    "- Relationships between tables ensure seamless querying and reporting.\n"
   ],
   "metadata": {
    "collapsed": false
   },
   "id": "84253374f45f7617"
  },
  {
   "cell_type": "markdown",
   "source": [
    "\n",
    "## Conclusion\n",
    "This notebook provides a complete solution to Question 3, covering:\n",
    "1. Generating student performance reports with SQL (Part A & B).\n",
    "2. Loading data into Power BI and creating effective visualizations (Part C).\n",
    "\n",
    "By following this structured approach, detailed insights into student performance can be efficiently derived and visualized.\n"
   ],
   "metadata": {
    "collapsed": false
   },
   "id": "95141b80fe3bf060"
  },
  {
   "cell_type": "code",
   "outputs": [],
   "source": [],
   "metadata": {
    "collapsed": false
   },
   "id": "ea41640180b6de24"
  }
 ],
 "metadata": {
  "kernelspec": {
   "name": "python3",
   "language": "python",
   "display_name": "Python 3 (ipykernel)"
  }
 },
 "nbformat": 4,
 "nbformat_minor": 5
}
